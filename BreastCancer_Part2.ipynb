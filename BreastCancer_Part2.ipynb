{
 "cells": [
  {
   "cell_type": "code",
   "execution_count": 29,
   "id": "d27bd274-0b74-4124-aeec-ee7e484af451",
   "metadata": {},
   "outputs": [],
   "source": [
    "import numpy as np\n",
    "import pandas as pd\n",
    "from sklearn import datasets\n",
    "from sklearn.ensemble import GradientBoostingClassifier\n",
    "from sklearn.model_selection import train_test_split, GridSearchCV, cross_val_score, StratifiedKFold\n",
    "from sklearn.preprocessing import StandardScaler\n",
    "from sklearn.metrics import accuracy_score, classification_report, confusion_matrix\n",
    "from sklearn.metrics import precision_score, recall_score, f1_score"
   ]
  },
  {
   "cell_type": "code",
   "execution_count": 1,
   "id": "c489a50b-00bf-496e-b293-2c1bdfb7cbee",
   "metadata": {},
   "outputs": [],
   "source": [
    "#Import scikit-learn dataset library\n",
    "from sklearn import datasets\n",
    "\n",
    "#Load dataset\n",
    "cancer = datasets.load_breast_cancer()"
   ]
  },
  {
   "cell_type": "code",
   "execution_count": 12,
   "id": "4c8da554-d567-4b32-9bc8-786e26196fac",
   "metadata": {},
   "outputs": [
    {
     "name": "stdout",
     "output_type": "stream",
     "text": [
      "Feature Names: ['mean radius' 'mean texture' 'mean perimeter' 'mean area'\n",
      " 'mean smoothness' 'mean compactness' 'mean concavity'\n",
      " 'mean concave points' 'mean symmetry' 'mean fractal dimension'\n",
      " 'radius error' 'texture error' 'perimeter error' 'area error'\n",
      " 'smoothness error' 'compactness error' 'concavity error'\n",
      " 'concave points error' 'symmetry error' 'fractal dimension error'\n",
      " 'worst radius' 'worst texture' 'worst perimeter' 'worst area'\n",
      " 'worst smoothness' 'worst compactness' 'worst concavity'\n",
      " 'worst concave points' 'worst symmetry' 'worst fractal dimension']\n",
      "Target Names: ['malignant' 'benign']\n",
      "Size of features: 17070\n"
     ]
    }
   ],
   "source": [
    "# Display dataset information\n",
    "print(\"Feature Names:\", cancer.feature_names)\n",
    "print(\"Target Names:\", cancer.target_names)\n",
    "print(\"Size of features:\",cancer.data.size)"
   ]
  },
  {
   "cell_type": "code",
   "execution_count": 6,
   "id": "8402c06f-5fe6-4c12-8d5c-649456a3151e",
   "metadata": {},
   "outputs": [],
   "source": [
    "# Import train_test_split function\n",
    "from sklearn.model_selection import train_test_split\n",
    "X=cancer.data\n",
    "y=cancer.target\n",
    "# Splitting dataset\n",
    "X_train, X_test, y_train, y_test = train_test_split(X,y, test_size=0.2, random_state=42, stratify=y) # 80% training and 20% test"
   ]
  },
  {
   "cell_type": "code",
   "execution_count": 8,
   "id": "fdca8449-9dae-42ba-8afb-3f3da98018c4",
   "metadata": {},
   "outputs": [],
   "source": [
    "from sklearn.preprocessing import StandardScaler\n",
    "# Normalize the dataset for better performance\n",
    "scaler = StandardScaler()\n",
    "X_train = scaler.fit_transform(X_train)\n",
    "X_test = scaler.transform(X_test)"
   ]
  },
  {
   "cell_type": "code",
   "execution_count": 15,
   "id": "e72f8f4a-ec98-4f0e-9a88-cef359322825",
   "metadata": {},
   "outputs": [],
   "source": [
    "from sklearn.ensemble import GradientBoostingClassifier\n",
    "# Define Gradient Boosting Classifier\n",
    "gb = GradientBoostingClassifier(random_state=42)"
   ]
  },
  {
   "cell_type": "code",
   "execution_count": 22,
   "id": "a328a23d-f859-446c-bf8c-0665a73f6baf",
   "metadata": {},
   "outputs": [
    {
     "name": "stdout",
     "output_type": "stream",
     "text": [
      "Best Hyperparameters: {'learning_rate': 0.2, 'max_depth': 3, 'min_samples_leaf': 2, 'min_samples_split': 2, 'n_estimators': 100}\n"
     ]
    }
   ],
   "source": [
    "# Hyperparameter Tuning with GridSearchCV\n",
    "parameters = {\n",
    "    'n_estimators': [50, 100, 200],'learning_rate': [0.01, 0.1, 0.2],'max_depth': [3, 5, 10],'min_samples_split': [2, 5, 10],'min_samples_leaf': [1, 2, 4]\n",
    "}\n",
    "gridSearchCv = GridSearchCV(gb, parameters, cv=5, scoring='accuracy',n_jobs=-1)\n",
    "gridSearchCv.fit(X_train, y_train)\n",
    "\n",
    "# Get best model\n",
    "best_gbm = gridSearchCv.best_estimator_\n",
    "\n",
    "print(\"Best Hyperparameters:\", gridSearchCv.best_params_)"
   ]
  },
  {
   "cell_type": "code",
   "execution_count": 24,
   "id": "ff5c396d-9cd9-48d9-9f0e-d5020fbaba5a",
   "metadata": {},
   "outputs": [
    {
     "name": "stdout",
     "output_type": "stream",
     "text": [
      "Cross-Validation Accuracy: 0.9692\n"
     ]
    }
   ],
   "source": [
    "# k-Fold Cross-Validation\n",
    "kfold = StratifiedKFold(n_splits=5, shuffle=True, random_state=42)\n",
    "cv_scores = cross_val_score(best_gbm, X_train, y_train, cv=kfold, scoring='accuracy')\n",
    "\n",
    "print(\"Cross-Validation Accuracy: {:.4f}\".format(np.mean(cv_scores)))"
   ]
  },
  {
   "cell_type": "code",
   "execution_count": 25,
   "id": "57c31535-7626-477c-9b7d-e997a1d078a2",
   "metadata": {},
   "outputs": [],
   "source": [
    "# Train the Best Model and Make Predictions\n",
    "best_gbm.fit(X_train, y_train)\n",
    "y_pred = best_gbm.predict(X_test)"
   ]
  },
  {
   "cell_type": "code",
   "execution_count": 32,
   "id": "13b819fc-0a00-4094-8cb7-bbf035953034",
   "metadata": {},
   "outputs": [
    {
     "name": "stdout",
     "output_type": "stream",
     "text": [
      "Confusion Matrix:\n",
      " [[38  4]\n",
      " [ 1 71]]\n",
      "Accuracy: 0.9561\n",
      "Precision: 0.9467\n",
      "Recall (Sensitivity): 0.9861\n",
      "F1-score: 0.9660\n",
      "Sensitivity: 0.9861\n",
      "Specificity : 0.9048\n"
     ]
    }
   ],
   "source": [
    "# Model Evaluation\n",
    "acc = accuracy_score(y_test, y_pred)\n",
    "conf_matrix = confusion_matrix(y_test, y_pred)\n",
    "print(\"Confusion Matrix:\\n\", conf_matrix)\n",
    "\n",
    "# Precision\n",
    "prec = precision_score(y_test, y_pred)\n",
    "\n",
    "# Recall\n",
    "recall = recall_score(y_test, y_pred)\n",
    "\n",
    "# F1-score\n",
    "f1 = f1_score(y_test, y_pred)\n",
    "\n",
    "# Confusion matrix values (TN, FP, FN, TP)\n",
    "TN, FP, FN, TP = confusion_matrix(y_test, y_pred).ravel()\n",
    "\n",
    "# Sensitivity\n",
    "sensi = TP / (TP + FN)  \n",
    "\n",
    "# Specificity\n",
    "speci = TN / (TN + FP)\n",
    "\n",
    "# Print all metrics\n",
    "print(f\"Accuracy: {acc:.4f}\")\n",
    "print(f\"Precision: {prec:.4f}\")\n",
    "print(f\"Recall (Sensitivity): {recall:.4f}\")\n",
    "print(f\"F1-score: {f1:.4f}\")\n",
    "print(f\"Sensitivity: {sensi:.4f}\")\n",
    "print(f\"Specificity : {speci:.4f}\")"
   ]
  },
  {
   "cell_type": "code",
   "execution_count": null,
   "id": "c3a832a8-1017-4fa9-9f32-4998382871fc",
   "metadata": {},
   "outputs": [],
   "source": []
  }
 ],
 "metadata": {
  "kernelspec": {
   "display_name": "cs5831",
   "language": "python",
   "name": "cs5831"
  },
  "language_info": {
   "codemirror_mode": {
    "name": "ipython",
    "version": 3
   },
   "file_extension": ".py",
   "mimetype": "text/x-python",
   "name": "python",
   "nbconvert_exporter": "python",
   "pygments_lexer": "ipython3",
   "version": "3.10.16"
  }
 },
 "nbformat": 4,
 "nbformat_minor": 5
}
